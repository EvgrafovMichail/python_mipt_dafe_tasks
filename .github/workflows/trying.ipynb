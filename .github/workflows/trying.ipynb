{
 "cells": [
  {
   "cell_type": "code",
   "execution_count": null,
   "id": "08c46c22",
   "metadata": {},
   "outputs": [
    {
     "name": "stdout",
     "output_type": "stream",
     "text": [
      "9999999999\n"
     ]
    }
   ],
   "source": [
    "def get_sum_of_prime_divisors(num: int) -> int:\n",
    "    n = num\n",
    "    sum_of_divisors = 0\n",
    "    for i in range(2, int(num**0.5) + 1):\n",
    "        if num % i == 0:\n",
    "            sum_of_divisors += i\n",
    "            while num % i == 0:\n",
    "                num //= i\n",
    "    if sum_of_divisors == 0:\n",
    "        return n\n",
    "    return sum_of_divisors\n",
    "\n",
    "\n",
    "print(get_sum_of_prime_divisors(10000000000 - 1))"
   ]
  },
  {
   "cell_type": "code",
   "execution_count": 2,
   "id": "fd7d5d7d",
   "metadata": {},
   "outputs": [
    {
     "name": "stdout",
     "output_type": "stream",
     "text": [
      "21\n"
     ]
    }
   ],
   "source": [
    "def get_gcd(num1: int, num2: int) -> int:\n",
    "    while max(num1, num2) % min(num1, num2) != 0:\n",
    "        if num1 > num2:\n",
    "            num1 = num1 % num2\n",
    "        else:\n",
    "            num2 = num2 % num1\n",
    "    return min(num1, num2)\n",
    "\n",
    "\n",
    "print(get_gcd(1071, 147))"
   ]
  },
  {
   "cell_type": "code",
   "execution_count": null,
   "id": "2a62ad6c",
   "metadata": {},
   "outputs": [
    {
     "name": "stdout",
     "output_type": "stream",
     "text": [
      "{2, 3}\n",
      "5\n"
     ]
    }
   ],
   "source": [
    "def IsPrime(num: int) -> bool:\n",
    "    d = 2\n",
    "    while num % d != 0:\n",
    "        d += 1\n",
    "    return d == num\n",
    "\n",
    "\n",
    "def get_sum_of_prime_divisors(num: int) -> int:\n",
    "    sum_of_divisors = 0\n",
    "    divisors = []\n",
    "    i = 2\n",
    "    while num != 1:\n",
    "        if num % i == 0:\n",
    "            if IsPrime(i):\n",
    "                divisors.append(i)\n",
    "                num //= i\n",
    "                i = 2\n",
    "\n",
    "        else:\n",
    "            i += 1\n",
    "    divisors = set(divisors)\n",
    "    for i in divisors:\n",
    "        sum_of_divisors += i\n",
    "    return sum_of_divisors\n",
    "\n",
    "\n",
    "print(get_sum_of_prime_divisors(12))"
   ]
  },
  {
   "cell_type": "code",
   "execution_count": 8,
   "id": "4fd42f4f",
   "metadata": {},
   "outputs": [
    {
     "name": "stdout",
     "output_type": "stream",
     "text": [
      "True\n"
     ]
    }
   ],
   "source": [
    "def is_palindrome(num: int) -> bool:\n",
    "    if num < 0:\n",
    "        return False\n",
    "    num_reversed = 0\n",
    "    num_reversed += num%10\n",
    "    num_current = num\n",
    "    num_current //= 10\n",
    "    while num_current > 0:\n",
    "        num_reversed *= 10\n",
    "        num_reversed += num_current % 10\n",
    "        num_current //= 10\n",
    "    return num == num_reversed\n",
    "print(is_palindrome(121))"
   ]
  }
 ],
 "metadata": {
  "kernelspec": {
   "display_name": "Python 3",
   "language": "python",
   "name": "python3"
  },
  "language_info": {
   "codemirror_mode": {
    "name": "ipython",
    "version": 3
   },
   "file_extension": ".py",
   "mimetype": "text/x-python",
   "name": "python",
   "nbconvert_exporter": "python",
   "pygments_lexer": "ipython3",
   "version": "3.13.2"
  }
 },
 "nbformat": 4,
 "nbformat_minor": 5
}
