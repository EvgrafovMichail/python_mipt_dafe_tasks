{
 "cells": [
  {
   "cell_type": "code",
   "execution_count": null,
   "id": "08c46c22",
   "metadata": {},
   "outputs": [
    {
     "name": "stdout",
     "output_type": "stream",
     "text": [
      "9999999999\n"
     ]
    }
   ],
   "source": [
    "def get_sum_of_prime_divisors(num: int) -> int:\n",
    "    n = num\n",
    "    sum_of_divisors = 0\n",
    "    for i in range(2, int(num**0.5) + 1):\n",
    "        if num % i == 0:\n",
    "            sum_of_divisors += i\n",
    "            while num % i == 0:\n",
    "                num //= i\n",
    "    if sum_of_divisors == 0:\n",
    "        return n\n",
    "    return sum_of_divisors\n",
    "\n",
    "\n",
    "print(get_sum_of_prime_divisors(10000000000 - 1))"
   ]
  },
  {
   "cell_type": "code",
   "execution_count": 17,
   "id": "9abf76e1",
   "metadata": {},
   "outputs": [
    {
     "name": "stdout",
     "output_type": "stream",
     "text": [
      "[1, 2]\n",
      "[1, 2, 3]\n",
      "[2, 3]\n",
      "True\n"
     ]
    }
   ],
   "source": [
    "def is_there_any_good_subarray(nums: list[int], k: int) -> bool:\n",
    "    if len(nums) < 2:\n",
    "        return False\n",
    "    elif len(nums) == 2:\n",
    "        sum = 0\n",
    "        for subarr in nums:\n",
    "            sum+=subarr\n",
    "        if sum%k==0:\n",
    "            return True\n",
    "        else:\n",
    "            return False\n",
    "    for i in range(0,len(nums) - 1):\n",
    "        for j in range(i+2, len(nums)+1):\n",
    "            sum=0\n",
    "            print(nums[i:j])\n",
    "            for subarr in nums[i:j]:\n",
    "                sum += subarr\n",
    "            if sum % k == 0:\n",
    "                return True\n",
    "    return False\n",
    "print(is_there_any_good_subarray([1, 2, 3], 5))"
   ]
  },
  {
   "cell_type": "code",
   "execution_count": 2,
   "id": "fd7d5d7d",
   "metadata": {},
   "outputs": [
    {
     "name": "stdout",
     "output_type": "stream",
     "text": [
      "21\n"
     ]
    }
   ],
   "source": [
    "def get_gcd(num1: int, num2: int) -> int:\n",
    "    while max(num1, num2) % min(num1, num2) != 0:\n",
    "        if num1 > num2:\n",
    "            num1 = num1 % num2\n",
    "        else:\n",
    "            num2 = num2 % num1\n",
    "    return min(num1, num2)\n",
    "\n",
    "\n",
    "print(get_gcd(1071, 147))"
   ]
  },
  {
   "cell_type": "code",
   "execution_count": null,
   "id": "2a62ad6c",
   "metadata": {},
   "outputs": [
    {
     "name": "stdout",
     "output_type": "stream",
     "text": [
      "{2, 3}\n",
      "5\n"
     ]
    }
   ],
   "source": [
    "def IsPrime(num: int) -> bool:\n",
    "    d = 2\n",
    "    while num % d != 0:\n",
    "        d += 1\n",
    "    return d == num\n",
    "\n",
    "\n",
    "def get_sum_of_prime_divisors(num: int) -> int:\n",
    "    sum_of_divisors = 0\n",
    "    divisors = []\n",
    "    i = 2\n",
    "    while num != 1:\n",
    "        if num % i == 0:\n",
    "            if IsPrime(i):\n",
    "                divisors.append(i)\n",
    "                num //= i\n",
    "                i = 2\n",
    "\n",
    "        else:\n",
    "            i += 1\n",
    "    divisors = set(divisors)\n",
    "    for i in divisors:\n",
    "        sum_of_divisors += i\n",
    "    return sum_of_divisors\n",
    "\n",
    "\n",
    "print(get_sum_of_prime_divisors(12))"
   ]
  },
  {
   "cell_type": "code",
   "execution_count": 8,
   "id": "4fd42f4f",
   "metadata": {},
   "outputs": [
    {
     "name": "stdout",
     "output_type": "stream",
     "text": [
      "True\n"
     ]
    }
   ],
   "source": [
    "def is_palindrome(num: int) -> bool:\n",
    "    if num < 0:\n",
    "        return False\n",
    "    num_reversed = 0\n",
    "    num_reversed += num % 10\n",
    "    num_current = num\n",
    "    num_current //= 10\n",
    "    while num_current > 0:\n",
    "        num_reversed *= 10\n",
    "        num_reversed += num_current % 10\n",
    "        num_current //= 10\n",
    "    return num == num_reversed\n",
    "\n",
    "\n",
    "print(is_palindrome(121))"
   ]
  },
  {
   "cell_type": "code",
   "execution_count": 2,
   "id": "047df546",
   "metadata": {},
   "outputs": [
    {
     "name": "stdout",
     "output_type": "stream",
     "text": [
      "1001\n"
     ]
    }
   ],
   "source": [
    "num = 9\n",
    "answer = 0\n",
    "position = 1\n",
    "while num > 0:\n",
    "    answer = answer + position * (num % 2)\n",
    "    position *= 10\n",
    "    num //= 2\n",
    "print(answer)"
   ]
  },
  {
   "cell_type": "code",
   "execution_count": null,
   "id": "b8b93d7a",
   "metadata": {},
   "outputs": [
    {
     "name": "stdout",
     "output_type": "stream",
     "text": [
      "1001\n",
      "9\n"
     ]
    },
    {
     "ename": "",
     "evalue": "",
     "output_type": "error",
     "traceback": [
      "\u001b[1;31mThe Kernel crashed while executing code in the current cell or a previous cell. \n",
      "\u001b[1;31mPlease review the code in the cell(s) to identify a possible cause of the failure. \n",
      "\u001b[1;31mClick <a href='https://aka.ms/vscodeJupyterKernelCrash'>here</a> for more info. \n",
      "\u001b[1;31mView Jupyter <a href='command:jupyter.viewOutput'>log</a> for further details."
     ]
    }
   ],
   "source": [
    "def flip_bits_in_range(num: int, left_bit: int, right_bit: int) -> int:\n",
    "    answer = 0\n",
    "    position = 1\n",
    "    curr_bit = 1\n",
    "    while num > 0:\n",
    "        if curr_bit >= left_bit and curr_bit <= right_bit:\n",
    "            if num % 2 == 1:\n",
    "                answer = answer + position * 0\n",
    "            else:\n",
    "                answer = answer + position * 1\n",
    "        else:\n",
    "            answer = answer + position * (num % 2)\n",
    "        position *= 10\n",
    "        num //= 2\n",
    "        curr_bit += 1\n",
    "    num = 0\n",
    "    power = 0\n",
    "    print(answer)\n",
    "    while answer > 0:\n",
    "        digit = answer % 10\n",
    "        num += digit * (2**power)\n",
    "        answer //= 10\n",
    "        power += 1\n",
    "    return num\n",
    "\n",
    "\n",
    "print(flip_bits_in_range(0b1011, 2, 2))"
   ]
  },
  {
   "cell_type": "code",
   "execution_count": 30,
   "id": "693fdb92",
   "metadata": {},
   "outputs": [
    {
     "data": {
      "text/plain": [
       "0"
      ]
     },
     "execution_count": 30,
     "metadata": {},
     "output_type": "execute_result"
    }
   ],
   "source": [
    "def get_nth_digit(num: int) -> int:\n",
    "    count_digit = 1\n",
    "    flag_finish = False\n",
    "    answer = 0\n",
    "    i = 0\n",
    "    while True:\n",
    "        k = i * 2\n",
    "        while k > 0:\n",
    "            if num == count_digit:\n",
    "                answer = k % 10\n",
    "                flag_finish = True\n",
    "                break\n",
    "            k //= 10\n",
    "            count_digit += 1\n",
    "        if flag_finish:\n",
    "            break\n",
    "        i += 1\n",
    "    return answer\n",
    "\n",
    "\n",
    "get_nth_digit(5)"
   ]
  },
  {
   "cell_type": "code",
   "execution_count": 57,
   "id": "570f59c2",
   "metadata": {},
   "outputs": [
    {
     "name": "stdout",
     "output_type": "stream",
     "text": [
      "[[1, 4]]\n"
     ]
    }
   ],
   "source": [
    "def merge_intervals(intervals: list[list[int, int]]) -> list[list[int, int]]:\n",
    "    intervals.sort(key=lambda x: x[0])\n",
    "    if len(intervals) == 0:\n",
    "        return []\n",
    "    newintervals = []\n",
    "    start, finish = intervals[0][0], intervals[0][1]\n",
    "    flag1 = True\n",
    "    for i in intervals:\n",
    "        if flag1:\n",
    "            flag1 = False\n",
    "            continue  # скип первого элемента(костыль)\n",
    "        if start < i[0] and finish > i[1]:\n",
    "            continue\n",
    "        elif finish >= i[0] and start <= i[0]:\n",
    "            finish = i[1]\n",
    "        else:\n",
    "            newintervals.append([start, finish])\n",
    "            start = i[0]\n",
    "            finish = i[1]\n",
    "    newintervals.append([start, finish])\n",
    "    return newintervals\n",
    "\n",
    "\n",
    "print(merge_intervals([[1, 4], [2, 3], [1, 4]]))"
   ]
  },
  {
   "cell_type": "code",
   "execution_count": null,
   "id": "fb839bd5",
   "metadata": {},
   "outputs": [
    {
     "name": "stdout",
     "output_type": "stream",
     "text": [
      "True\n"
     ]
    }
   ],
   "source": [
    "def is_punctuation(text: str) -> bool:\n",
    "    for i in text:\n",
    "        numb_code = ord(i)\n",
    "        if not (\n",
    "            (numb_code >= 32 and numb_code <= 47)\n",
    "            or (numb_code >= 160 and numb_code <= 255)\n",
    "            or (numb_code >= 8192 and numb_code <= 8303)\n",
    "            or (numb_code >=ё 11776 and numb_code <= 11903)\n",
    "            or (numb_code >= 12288 and numb_code <= 12351)\n",
    "        )\n",
    "            return False\n",
    "    return True\n",
    "\n",
    "\n",
    "print(is_punctuation(\"!!!!!;q';\"))"
   ]
  },
  {
   "cell_type": "code",
   "execution_count": 7,
   "id": "c55fc9ef",
   "metadata": {},
   "outputs": [
    {
     "name": "stdout",
     "output_type": "stream",
     "text": [
      "\n"
     ]
    }
   ],
   "source": [
    "def unzip(compress_text: str) -> str:\n",
    "    result = \"\"\n",
    "    compress_text = compress_text.split(\" \")\n",
    "    for i in compress_text:\n",
    "        if \"*\" not in i:\n",
    "            result += i\n",
    "        else:\n",
    "            result += i[:-2] * int(i[-1])\n",
    "    return result\n",
    "\n",
    "\n",
    "print(unzip(\"a*10\"))"
   ]
  },
  {
   "cell_type": "code",
   "execution_count": 10,
   "id": "66072e10",
   "metadata": {},
   "outputs": [
    {
     "name": "stdout",
     "output_type": "stream",
     "text": [
      "False\n"
     ]
    }
   ],
   "source": [
    "def reg_validator(reg_expr: str, text: str) -> bool:\n",
    "    i, j = 0, 0\n",
    "    while i < len(reg_expr) and j < len(text):\n",
    "        symbol = reg_expr[i]\n",
    "        if symbol == \"d\":\n",
    "            if not text[j].isdigit():\n",
    "                print(i)\n",
    "                return False\n",
    "            while j < len(text) and text[j].isdigit():\n",
    "                j += 1\n",
    "        elif symbol == \"p\":\n",
    "            if not text[j].isalpha():\n",
    "                return False\n",
    "            while j < len(text) and text[j].isalpha():\n",
    "                j += 1\n",
    "        elif symbol == \"s\":\n",
    "            if not (text[j].isalpha() or text[j].isdigit()):\n",
    "                return False\n",
    "            while j < len(text) and (text[j].isalpha() or text[j].isdigit()):\n",
    "                j += 1\n",
    "        else:\n",
    "            if text[j] != symbol:\n",
    "                return False\n",
    "            j += 1\n",
    "        i += 1\n",
    "\n",
    "    return i == len(reg_expr) and j == len(text)\n",
    "\n",
    "\n",
    "print(reg_validator(\"w\", \"hello\"))"
   ]
  },
  {
   "cell_type": "code",
   "execution_count": 1,
   "id": "7a1295ce",
   "metadata": {},
   "outputs": [
    {
     "name": "stdout",
     "output_type": "stream",
     "text": [
      "2\n"
     ]
    }
   ],
   "source": [
    "def get_sum_of_prime_divisors(num: int) -> int:\n",
    "    n = num\n",
    "    if n == 1:\n",
    "        return 0\n",
    "    sum_of_divisors = 0\n",
    "    for i in range(2, int(num**0.5) + 1):\n",
    "        if num % i == 0:\n",
    "            sum_of_divisors += i\n",
    "            while num % i == 0:\n",
    "                num //= i\n",
    "    if sum_of_divisors == 0:\n",
    "        return n\n",
    "    return sum_of_divisors\n",
    "print(get_sum_of_prime_divisors(26))"
   ]
  },
  {
   "cell_type": "code",
   "execution_count": 23,
   "id": "f34569a9",
   "metadata": {},
   "outputs": [
    {
     "name": "stdout",
     "output_type": "stream",
     "text": [
      "10\n",
      "XL\n"
     ]
    }
   ],
   "source": [
    "def int_to_roman(num: int) -> str:\n",
    "    roman_numbers = { 1000 : \"M\", 500 : \"D\", 100 : \"C\", \n",
    "                    50 : \"L\", 10 : \"X\", 5 : \"V\", 1 : \"I\"}\n",
    "    roman_digits = [1000, 500, 100, 50, 10, 5, 1]\n",
    "    index = 0\n",
    "    result = ''\n",
    "    flag_close = False\n",
    "    while index < len(roman_digits) and num > 0:\n",
    "        if not flag_close and   (num - roman_digits[index]) < 0:\n",
    "            flag_close = True\n",
    "        elif not flag_close:\n",
    "            result += roman_numbers[roman_digits[index]]\n",
    "            num -= roman_digits[index]\n",
    "        elif flag_close:\n",
    "            if (index == 0 or index == 2 or index == 4) and (num - (roman_digits[index] - 10 ** ((str(roman_digits[index]).count('0')) - 1))) >= 0:\n",
    "                num -= (roman_digits[index] -  10 ** ((str(roman_digits[index]).count('0')) - 1))\n",
    "                result += roman_numbers[10 ** ((str(roman_digits[index]).count('0')) - 1)]+roman_numbers[roman_digits[index]]\n",
    "                flag_close = False\n",
    "                index+=1   \n",
    "            elif index != 2 and index!= 0 and index != 4 and (num - (roman_digits[index] - 10 ** str(roman_digits[index]).count('0'))) >= 0:\n",
    "                print( 10 ** str(roman_digits[index]).count('0'))\n",
    "                result += roman_numbers[10 ** str(roman_digits[index]).count('0')]+roman_numbers[roman_digits[index]]\n",
    "                num -= (roman_digits[index] - 10 ** str(roman_digits[index]).count('0'))\n",
    "                flag_close = False\n",
    "                index+=1\n",
    "            else:\n",
    "                flag_close = False\n",
    "                index+=1\n",
    "    return result\n",
    "print(int_to_roman(40))"
   ]
  },
  {
   "cell_type": "code",
   "execution_count": 24,
   "id": "2ae168bc",
   "metadata": {},
   "outputs": [
    {
     "data": {
      "text/plain": [
       "4"
      ]
     },
     "execution_count": 24,
     "metadata": {},
     "output_type": "execute_result"
    }
   ],
   "source": [
    "len(set('pwwwkew'))"
   ]
  },
  {
   "cell_type": "code",
   "execution_count": 12,
   "id": "fbde457b",
   "metadata": {},
   "outputs": [
    {
     "name": "stdout",
     "output_type": "stream",
     "text": [
      "18.329926258226045 0.06225318726752254\n"
     ]
    }
   ],
   "source": [
    "rad = float(input())\n",
    "i = 5.1*10**(-4)*(1453*2+576.02)*(rad**2) - 5.5\n",
    "progri = i * (4*(0.005/rad)**2 + (1/(1453+1453+576.02))**2+0.002**2)**0.5\n",
    "print(i, progri)"
   ]
  }
 ],
 "metadata": {
  "kernelspec": {
   "display_name": "Python 3",
   "language": "python",
   "name": "python3"
  },
  "language_info": {
   "codemirror_mode": {
    "name": "ipython",
    "version": 3
   },
   "file_extension": ".py",
   "mimetype": "text/x-python",
   "name": "python",
   "nbconvert_exporter": "python",
   "pygments_lexer": "ipython3",
   "version": "3.13.2"
  }
 },
 "nbformat": 4,
 "nbformat_minor": 5
}
