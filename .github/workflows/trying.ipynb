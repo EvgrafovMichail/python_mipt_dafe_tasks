{
 "cells": [
  {
   "cell_type": "code",
   "execution_count": 6,
   "id": "08c46c22",
   "metadata": {},
   "outputs": [
    {
     "name": "stdout",
     "output_type": "stream",
     "text": [
      "16\n"
     ]
    }
   ],
   "source": [
    "def get_multiplications_amount(num: int) -> int:\n",
    "    multiplications_amount = 0\n",
    "    if num == 1:\n",
    "        return 0\n",
    "    while num > 1:\n",
    "        if num % 2 != 0:\n",
    "            multiplications_amount += 1\n",
    "            num -= 1\n",
    "            continue\n",
    "        multiplications_amount += 1\n",
    "        num //= 2\n",
    "    return multiplications_amount\n",
    "\n",
    "\n",
    "print(get_multiplications_amount(999))"
   ]
  },
  {
   "cell_type": "code",
   "execution_count": 2,
   "id": "fd7d5d7d",
   "metadata": {},
   "outputs": [
    {
     "name": "stdout",
     "output_type": "stream",
     "text": [
      "21\n"
     ]
    }
   ],
   "source": [
    "def get_gcd(num1: int, num2: int) -> int:\n",
    "    while max(num1, num2) % min(num1, num2) != 0:\n",
    "        if num1 > num2:\n",
    "            num1 = num1 % num2\n",
    "        else:\n",
    "            num2 = num2 % num1\n",
    "    return min(num1, num2)\n",
    "\n",
    "\n",
    "print(get_gcd(1071, 147))"
   ]
  },
  {
   "cell_type": "code",
   "execution_count": null,
   "id": "2a62ad6c",
   "metadata": {},
   "outputs": [
    {
     "name": "stdout",
     "output_type": "stream",
     "text": [
      "{2, 3}\n",
      "5\n"
     ]
    }
   ],
   "source": [
    "def IsPrime(num: int) -> bool:\n",
    "    d = 2\n",
    "    while num % d != 0:\n",
    "        d += 1\n",
    "    return d == num\n",
    "\n",
    "\n",
    "def get_sum_of_prime_divisors(num: int) -> int:\n",
    "    sum_of_divisors = 0\n",
    "    divisors = []\n",
    "    i = 2\n",
    "    while num != 1:\n",
    "        if num % i == 0:\n",
    "            if IsPrime(i):\n",
    "                divisors.append(i)\n",
    "                num //= i\n",
    "                i = 2\n",
    "\n",
    "        else:\n",
    "            i += 1\n",
    "    divisors = set(divisors)\n",
    "    for i in divisors:\n",
    "        sum_of_divisors += i\n",
    "    return sum_of_divisors\n",
    "\n",
    "\n",
    "print(get_sum_of_prime_divisors(12))"
   ]
  },
  {
   "cell_type": "code",
   "execution_count": 12,
   "id": "4fd42f4f",
   "metadata": {},
   "outputs": [
    {
     "name": "stdout",
     "output_type": "stream",
     "text": [
      "False\n"
     ]
    }
   ],
   "source": [
    "def is_palindrome(num: int) -> bool:\n",
    "    num_reversed = str(num)\n",
    "    num_reversed = num_reversed[::-1]\n",
    "    num_reversed = int(num_reversed)\n",
    "    return num == num_reversed\n",
    "\n",
    "\n",
    "print(is_palindrome(13))"
   ]
  }
 ],
 "metadata": {
  "kernelspec": {
   "display_name": "Python 3",
   "language": "python",
   "name": "python3"
  },
  "language_info": {
   "codemirror_mode": {
    "name": "ipython",
    "version": 3
   },
   "file_extension": ".py",
   "mimetype": "text/x-python",
   "name": "python",
   "nbconvert_exporter": "python",
   "pygments_lexer": "ipython3",
   "version": "3.13.2"
  }
 },
 "nbformat": 4,
 "nbformat_minor": 5
}
