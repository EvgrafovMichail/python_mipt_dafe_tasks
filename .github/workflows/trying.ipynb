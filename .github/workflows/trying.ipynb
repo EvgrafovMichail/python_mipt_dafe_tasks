{
 "cells": [
  {
   "cell_type": "code",
   "execution_count": null,
   "id": "08c46c22",
   "metadata": {},
   "outputs": [
    {
     "name": "stdout",
     "output_type": "stream",
     "text": [
      "9999999999\n"
     ]
    }
   ],
   "source": [
    "def get_sum_of_prime_divisors(num: int) -> int:\n",
    "    n = num\n",
    "    sum_of_divisors = 0\n",
    "    for i in range(2, int(num**0.5) + 1):\n",
    "        if num % i == 0:\n",
    "            sum_of_divisors += i\n",
    "            while num % i == 0:\n",
    "                num //= i\n",
    "    if sum_of_divisors == 0:\n",
    "        return n\n",
    "    return sum_of_divisors\n",
    "\n",
    "\n",
    "print(get_sum_of_prime_divisors(10000000000 - 1))"
   ]
  },
  {
   "cell_type": "code",
   "execution_count": 2,
   "id": "fd7d5d7d",
   "metadata": {},
   "outputs": [
    {
     "name": "stdout",
     "output_type": "stream",
     "text": [
      "21\n"
     ]
    }
   ],
   "source": [
    "def get_gcd(num1: int, num2: int) -> int:\n",
    "    while max(num1, num2) % min(num1, num2) != 0:\n",
    "        if num1 > num2:\n",
    "            num1 = num1 % num2\n",
    "        else:\n",
    "            num2 = num2 % num1\n",
    "    return min(num1, num2)\n",
    "\n",
    "\n",
    "print(get_gcd(1071, 147))"
   ]
  },
  {
   "cell_type": "code",
   "execution_count": null,
   "id": "2a62ad6c",
   "metadata": {},
   "outputs": [
    {
     "name": "stdout",
     "output_type": "stream",
     "text": [
      "{2, 3}\n",
      "5\n"
     ]
    }
   ],
   "source": [
    "def IsPrime(num: int) -> bool:\n",
    "    d = 2\n",
    "    while num % d != 0:\n",
    "        d += 1\n",
    "    return d == num\n",
    "\n",
    "\n",
    "def get_sum_of_prime_divisors(num: int) -> int:\n",
    "    sum_of_divisors = 0\n",
    "    divisors = []\n",
    "    i = 2\n",
    "    while num != 1:\n",
    "        if num % i == 0:\n",
    "            if IsPrime(i):\n",
    "                divisors.append(i)\n",
    "                num //= i\n",
    "                i = 2\n",
    "\n",
    "        else:\n",
    "            i += 1\n",
    "    divisors = set(divisors)\n",
    "    for i in divisors:\n",
    "        sum_of_divisors += i\n",
    "    return sum_of_divisors\n",
    "\n",
    "\n",
    "print(get_sum_of_prime_divisors(12))"
   ]
  },
  {
   "cell_type": "code",
   "execution_count": 8,
   "id": "4fd42f4f",
   "metadata": {},
   "outputs": [
    {
     "name": "stdout",
     "output_type": "stream",
     "text": [
      "True\n"
     ]
    }
   ],
   "source": [
    "def is_palindrome(num: int) -> bool:\n",
    "    if num < 0:\n",
    "        return False\n",
    "    num_reversed = 0\n",
    "    num_reversed += num % 10\n",
    "    num_current = num\n",
    "    num_current //= 10\n",
    "    while num_current > 0:\n",
    "        num_reversed *= 10\n",
    "        num_reversed += num_current % 10\n",
    "        num_current //= 10\n",
    "    return num == num_reversed\n",
    "\n",
    "\n",
    "print(is_palindrome(121))"
   ]
  },
  {
   "cell_type": "code",
   "execution_count": 2,
   "id": "047df546",
   "metadata": {},
   "outputs": [
    {
     "name": "stdout",
     "output_type": "stream",
     "text": [
      "1001\n"
     ]
    }
   ],
   "source": [
    "num = 9\n",
    "answer = 0\n",
    "position = 1\n",
    "while num > 0:\n",
    "    answer = answer + position * (num % 2)\n",
    "    position *= 10\n",
    "    num //= 2\n",
    "print(answer)"
   ]
  },
  {
   "cell_type": "code",
   "execution_count": null,
   "id": "b8b93d7a",
   "metadata": {},
   "outputs": [
    {
     "name": "stdout",
     "output_type": "stream",
     "text": [
      "1001\n",
      "9\n"
     ]
    },
    {
     "ename": "",
     "evalue": "",
     "output_type": "error",
     "traceback": [
      "\u001b[1;31mThe Kernel crashed while executing code in the current cell or a previous cell. \n",
      "\u001b[1;31mPlease review the code in the cell(s) to identify a possible cause of the failure. \n",
      "\u001b[1;31mClick <a href='https://aka.ms/vscodeJupyterKernelCrash'>here</a> for more info. \n",
      "\u001b[1;31mView Jupyter <a href='command:jupyter.viewOutput'>log</a> for further details."
     ]
    }
   ],
   "source": [
    "def flip_bits_in_range(num: int, left_bit: int, right_bit: int) -> int:\n",
    "    answer = 0\n",
    "    position = 1\n",
    "    curr_bit = 1\n",
    "    while num > 0:\n",
    "        if curr_bit >= left_bit and curr_bit <= right_bit:\n",
    "            if num % 2 == 1:\n",
    "                answer = answer + position * 0\n",
    "            else:\n",
    "                answer = answer + position * 1\n",
    "        else:\n",
    "            answer = answer + position * (num % 2)\n",
    "        position *= 10\n",
    "        num //= 2\n",
    "        curr_bit += 1\n",
    "    num = 0\n",
    "    power = 0\n",
    "    print(answer)\n",
    "    while answer > 0:\n",
    "        digit = answer % 10\n",
    "        num += digit * (2**power)\n",
    "        answer //= 10\n",
    "        power += 1\n",
    "    return num\n",
    "\n",
    "\n",
    "print(flip_bits_in_range(0b1011, 2, 2))"
   ]
  },
  {
   "cell_type": "code",
   "execution_count": 30,
   "id": "693fdb92",
   "metadata": {},
   "outputs": [
    {
     "data": {
      "text/plain": [
       "0"
      ]
     },
     "execution_count": 30,
     "metadata": {},
     "output_type": "execute_result"
    }
   ],
   "source": [
    "def get_nth_digit(num: int) -> int:\n",
    "    count_digit = 1\n",
    "    flag_finish = False\n",
    "    answer = 0\n",
    "    i = 0\n",
    "    while True:\n",
    "        k = i * 2\n",
    "        while k > 0:\n",
    "            if num == count_digit:\n",
    "                answer = k % 10\n",
    "                flag_finish = True\n",
    "                break\n",
    "            k //= 10\n",
    "            count_digit += 1\n",
    "        if flag_finish:\n",
    "            break\n",
    "        i += 1\n",
    "    return answer\n",
    "\n",
    "\n",
    "get_nth_digit(5)"
   ]
  },
  {
   "cell_type": "code",
   "execution_count": null,
   "id": "570f59c2",
   "metadata": {},
   "outputs": [
    {
     "ename": "TypeError",
     "evalue": "object of type 'int' has no len()",
     "output_type": "error",
     "traceback": [
      "\u001b[1;31m---------------------------------------------------------------------------\u001b[0m",
      "\u001b[1;31mTypeError\u001b[0m                                 Traceback (most recent call last)",
      "Cell \u001b[1;32mIn[31], line 1\u001b[0m\n\u001b[1;32m----> 1\u001b[0m \u001b[38;5;28;43mlen\u001b[39;49m\u001b[43m(\u001b[49m\u001b[38;5;241;43m100\u001b[39;49m\u001b[43m)\u001b[49m\n",
      "\u001b[1;31mTypeError\u001b[0m: object of type 'int' has no len()"
     ]
    }
   ],
   "source": []
  }
 ],
 "metadata": {
  "kernelspec": {
   "display_name": "Python 3",
   "language": "python",
   "name": "python3"
  },
  "language_info": {
   "codemirror_mode": {
    "name": "ipython",
    "version": 3
   },
   "file_extension": ".py",
   "mimetype": "text/x-python",
   "name": "python",
   "nbconvert_exporter": "python",
   "pygments_lexer": "ipython3",
   "version": "3.13.2"
  }
 },
 "nbformat": 4,
 "nbformat_minor": 5
}
